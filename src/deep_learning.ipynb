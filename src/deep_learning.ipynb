{
  "nbformat": 4,
  "nbformat_minor": 0,
  "metadata": {
    "colab": {
      "name": "CV Project.ipynb",
      "provenance": []
    },
    "kernelspec": {
      "name": "python3",
      "display_name": "Python 3"
    },
    "accelerator": "GPU"
  },
  "cells": [
    {
      "cell_type": "code",
      "metadata": {
        "id": "YHeERlb5ckUT",
        "colab_type": "code",
        "outputId": "c3a02295-fdf4-4e71-9a94-0fead2414d84",
        "colab": {
          "base_uri": "https://localhost:8080/",
          "height": 34
        }
      },
      "source": [
        "from google.colab import drive\n",
        "drive.mount('/content/gdrive')"
      ],
      "execution_count": 12,
      "outputs": [
        {
          "output_type": "stream",
          "text": [
            "Drive already mounted at /content/gdrive; to attempt to forcibly remount, call drive.mount(\"/content/gdrive\", force_remount=True).\n"
          ],
          "name": "stdout"
        }
      ]
    },
    {
      "cell_type": "code",
      "metadata": {
        "id": "2nEsDMwQcm_o",
        "colab_type": "code",
        "colab": {}
      },
      "source": [
        "%cd gdrive/My Drive/\n",
        "! git clone https://github.com/zhanghang1989/PyTorch-Encoding.git\n",
        "%cd PyTorch-Encoding\n",
        "! pip3 install torch==1.0.0\n",
        "! pip3 install ninja\n",
        "! python3 setup.py install"
      ],
      "execution_count": 0,
      "outputs": []
    },
    {
      "cell_type": "code",
      "metadata": {
        "id": "Sypj9QBtduUD",
        "colab_type": "code",
        "colab": {}
      },
      "source": [
        "import torch\n",
        "import encoding\n",
        "import matplotlib.pyplot as plt\n",
        "import numpy as np\n",
        "import os\n",
        "from glob import glob\n",
        "from scipy.io import savemat\n",
        "\n",
        "model_name = 'EncNet_ResNet101_PContext'\n",
        "test_img_dir = 'test'\n",
        "output_dir = 'output'\n",
        "segs_str = 'segs'\n",
        "\n",
        "if not os.path.exists(output_dir):\n",
        "  os.makedirs(output_dir)\n",
        "\n",
        "# Get the model\n",
        "model = encoding.models.get_model(model_name, pretrained=True).cuda()\n",
        "model.eval()\n",
        "\n",
        "# Prepare the images\n",
        "for index, img_path in enumerate(glob(os.path.join(test_img_dir, \"*.jpg\")), 1):\n",
        "  print(\"\\nImage %d\" % index)\n",
        "  print(\"Running code for %s\\n\" % img_path)\n",
        "  img = encoding.utils.load_image(img_path).cuda().unsqueeze(0)\n",
        "  output = model.evaluate(img)\n",
        "  # Make prediction\n",
        "  predict = (torch.max(output, 1)[1].cpu().numpy() + 1)[0]\n",
        "\n",
        "  set_unique = set(list(np.reshape(predict, -1)))\n",
        "  \n",
        "  for index, el in enumerate(set_unique):\n",
        "    predict = np.where(predict == el, index, predict) \n",
        "  \n",
        "  img_base_name = os.path.basename(img_path)\n",
        "  img_name = os.path.splitext(img_base_name)[0]\n",
        "  \n",
        "  obj_arr = np.empty((1,), dtype=np.object)\n",
        "  obj_arr[0] = predict\n",
        "  savemat(os.path.join(output_dir, \"%s.mat\" % img_name), {segs_str: obj_arr})\n",
        "\n",
        "# print(set(list(np.reshape(predict, -1))))\n",
        "# plt.imsave('output_bird.png', predict)"
      ],
      "execution_count": 0,
      "outputs": []
    }
  ]
}